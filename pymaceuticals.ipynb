{
 "cells": [
  {
   "cell_type": "markdown",
   "metadata": {},
   "source": [
    "## Observations and Insights "
   ]
  },
  {
   "cell_type": "markdown",
   "metadata": {},
   "source": [
    "* Overall, more treatments were performed with Capomulin and Ramicane drug regimen.  Presumably, this is because some mice on other regimen did not survive through all testing timepoints.\n",
    "\n",
    "* Mouse 'm601' was treated with Capomulin. Tumor volume reduced steadily, from 45mm3 at timepoint 0 to 30mm3 at timepoint 45.  There was a slight increase at timepoint 40 but overall data indicates treatment of this mouse was successful.\n",
    "\n",
    "* Variance, Standard Deviation and SEM were highest with Ketapril and Naftisol drug regimen.\n",
    "\n",
    "* 10 of 24 mice had died prior to testing timepoint 15 with Propriva drug regimen."
   ]
  },
  {
   "cell_type": "code",
   "execution_count": 68,
   "metadata": {},
   "outputs": [
    {
     "data": {
      "text/html": [
       "<div>\n",
       "<style scoped>\n",
       "    .dataframe tbody tr th:only-of-type {\n",
       "        vertical-align: middle;\n",
       "    }\n",
       "\n",
       "    .dataframe tbody tr th {\n",
       "        vertical-align: top;\n",
       "    }\n",
       "\n",
       "    .dataframe thead th {\n",
       "        text-align: right;\n",
       "    }\n",
       "</style>\n",
       "<table border=\"1\" class=\"dataframe\">\n",
       "  <thead>\n",
       "    <tr style=\"text-align: right;\">\n",
       "      <th></th>\n",
       "      <th>Mouse ID</th>\n",
       "      <th>Drug Regimen</th>\n",
       "      <th>Sex</th>\n",
       "      <th>Age_months</th>\n",
       "      <th>Weight (g)</th>\n",
       "      <th>Timepoint</th>\n",
       "      <th>Tumor Volume (mm3)</th>\n",
       "      <th>Metastatic Sites</th>\n",
       "    </tr>\n",
       "  </thead>\n",
       "  <tbody>\n",
       "    <tr>\n",
       "      <th>0</th>\n",
       "      <td>k403</td>\n",
       "      <td>Ramicane</td>\n",
       "      <td>Male</td>\n",
       "      <td>21</td>\n",
       "      <td>16</td>\n",
       "      <td>0</td>\n",
       "      <td>45.000000</td>\n",
       "      <td>0</td>\n",
       "    </tr>\n",
       "    <tr>\n",
       "      <th>1</th>\n",
       "      <td>k403</td>\n",
       "      <td>Ramicane</td>\n",
       "      <td>Male</td>\n",
       "      <td>21</td>\n",
       "      <td>16</td>\n",
       "      <td>5</td>\n",
       "      <td>38.825898</td>\n",
       "      <td>0</td>\n",
       "    </tr>\n",
       "    <tr>\n",
       "      <th>2</th>\n",
       "      <td>k403</td>\n",
       "      <td>Ramicane</td>\n",
       "      <td>Male</td>\n",
       "      <td>21</td>\n",
       "      <td>16</td>\n",
       "      <td>10</td>\n",
       "      <td>35.014271</td>\n",
       "      <td>1</td>\n",
       "    </tr>\n",
       "    <tr>\n",
       "      <th>3</th>\n",
       "      <td>k403</td>\n",
       "      <td>Ramicane</td>\n",
       "      <td>Male</td>\n",
       "      <td>21</td>\n",
       "      <td>16</td>\n",
       "      <td>15</td>\n",
       "      <td>34.223992</td>\n",
       "      <td>1</td>\n",
       "    </tr>\n",
       "    <tr>\n",
       "      <th>4</th>\n",
       "      <td>k403</td>\n",
       "      <td>Ramicane</td>\n",
       "      <td>Male</td>\n",
       "      <td>21</td>\n",
       "      <td>16</td>\n",
       "      <td>20</td>\n",
       "      <td>32.997729</td>\n",
       "      <td>1</td>\n",
       "    </tr>\n",
       "  </tbody>\n",
       "</table>\n",
       "</div>"
      ],
      "text/plain": [
       "  Mouse ID Drug Regimen   Sex  Age_months  Weight (g)  Timepoint  \\\n",
       "0     k403     Ramicane  Male          21          16          0   \n",
       "1     k403     Ramicane  Male          21          16          5   \n",
       "2     k403     Ramicane  Male          21          16         10   \n",
       "3     k403     Ramicane  Male          21          16         15   \n",
       "4     k403     Ramicane  Male          21          16         20   \n",
       "\n",
       "   Tumor Volume (mm3)  Metastatic Sites  \n",
       "0           45.000000                 0  \n",
       "1           38.825898                 0  \n",
       "2           35.014271                 1  \n",
       "3           34.223992                 1  \n",
       "4           32.997729                 1  "
      ]
     },
     "execution_count": 68,
     "metadata": {},
     "output_type": "execute_result"
    }
   ],
   "source": [
    "# Dependencies and Setup\n",
    "import matplotlib.pyplot as plt\n",
    "import pandas as pd\n",
    "import scipy.stats as st\n",
    "import csv\n",
    "\n",
    "from scipy.stats import linregress\n",
    "\n",
    "# Study data files\n",
    "mouse_metadata_path = \"data/Mouse_metadata.csv\"\n",
    "study_results_path = \"data/Study_results.csv\"\n",
    "\n",
    "# Read the mouse data and the study results\n",
    "mouse_metadata = pd.read_csv(mouse_metadata_path)\n",
    "study_results = pd.read_csv(study_results_path)\n",
    "\n",
    "# Combine the data into a single dataset\n",
    "mouse_df = pd.merge(mouse_metadata, study_results, on=\"Mouse ID\")\n",
    "\n",
    "# Display the data table for preview\n",
    "mouse_df.head()"
   ]
  },
  {
   "cell_type": "code",
   "execution_count": 69,
   "metadata": {},
   "outputs": [
    {
     "name": "stdout",
     "output_type": "stream",
     "text": [
      "There are 249 unique \"Mouse IDs\".\n"
     ]
    },
    {
     "data": {
      "text/plain": [
       "g989    13\n",
       "k483    10\n",
       "l725    10\n",
       "a203    10\n",
       "t724    10\n",
       "        ..\n",
       "v199     1\n",
       "l872     1\n",
       "d133     1\n",
       "t573     1\n",
       "h428     1\n",
       "Name: Mouse ID, Length: 249, dtype: int64"
      ]
     },
     "execution_count": 69,
     "metadata": {},
     "output_type": "execute_result"
    }
   ],
   "source": [
    "# Checking the number of mice.\n",
    "mouse_list = mouse_df[\"Mouse ID\"]\n",
    "print(f'There are {len(mouse_list.unique())} unique \"Mouse IDs\".')\n",
    "mouse_list.value_counts()\n"
   ]
  },
  {
   "cell_type": "code",
   "execution_count": 70,
   "metadata": {},
   "outputs": [
    {
     "name": "stdout",
     "output_type": "stream",
     "text": [
      "List of duplicate mice: ['g989']\n",
      "\"g989\" is the only mouse with duplicate results. This mouse is to be removed from dataset.\n"
     ]
    }
   ],
   "source": [
    "# Getting the duplicate mice by ID number that shows up for Mouse ID and Timepoint. \n",
    "\n",
    "# Add 'Duplicate_Check' column to mouse_df.  True = duplicated on 'Mouse ID' and 'Timepoint'.\n",
    "mouse_df['Duplicate_Check'] = mouse_df.duplicated(subset=['Mouse ID','Timepoint'], keep=False)\n",
    "\n",
    "# Create a df of duplicates ('duplicate_df')\n",
    "duplicates = mouse_df['Duplicate_Check'].isin([True])\n",
    "duplicate_mice_df = mouse_df[duplicates]\n",
    "\n",
    "# Create a list of duplicates and print to preview\n",
    "list_of_duplicate_mice = duplicate_mice_df[\"Mouse ID\"].unique()\n",
    "print(f'List of duplicate mice: {list_of_duplicate_mice}')\n",
    "\n",
    "# Store the \"mouse_ID\" of the duplicate in a variable\n",
    "mouse_to_be_removed = list_of_duplicate_mice[0]\n",
    "print(f'\"{mouse_to_be_removed}\" is the only mouse with duplicate results. This mouse is to be removed from dataset.')"
   ]
  },
  {
   "cell_type": "code",
   "execution_count": 71,
   "metadata": {},
   "outputs": [
    {
     "data": {
      "text/html": [
       "<div>\n",
       "<style scoped>\n",
       "    .dataframe tbody tr th:only-of-type {\n",
       "        vertical-align: middle;\n",
       "    }\n",
       "\n",
       "    .dataframe tbody tr th {\n",
       "        vertical-align: top;\n",
       "    }\n",
       "\n",
       "    .dataframe thead th {\n",
       "        text-align: right;\n",
       "    }\n",
       "</style>\n",
       "<table border=\"1\" class=\"dataframe\">\n",
       "  <thead>\n",
       "    <tr style=\"text-align: right;\">\n",
       "      <th></th>\n",
       "      <th>Mouse ID</th>\n",
       "      <th>Drug Regimen</th>\n",
       "      <th>Sex</th>\n",
       "      <th>Age_months</th>\n",
       "      <th>Weight (g)</th>\n",
       "      <th>Timepoint</th>\n",
       "      <th>Tumor Volume (mm3)</th>\n",
       "      <th>Metastatic Sites</th>\n",
       "    </tr>\n",
       "  </thead>\n",
       "  <tbody>\n",
       "    <tr>\n",
       "      <th>0</th>\n",
       "      <td>g989</td>\n",
       "      <td>Propriva</td>\n",
       "      <td>Female</td>\n",
       "      <td>21</td>\n",
       "      <td>26</td>\n",
       "      <td>0</td>\n",
       "      <td>45.000000</td>\n",
       "      <td>0</td>\n",
       "    </tr>\n",
       "    <tr>\n",
       "      <th>1</th>\n",
       "      <td>g989</td>\n",
       "      <td>Propriva</td>\n",
       "      <td>Female</td>\n",
       "      <td>21</td>\n",
       "      <td>26</td>\n",
       "      <td>0</td>\n",
       "      <td>45.000000</td>\n",
       "      <td>0</td>\n",
       "    </tr>\n",
       "    <tr>\n",
       "      <th>2</th>\n",
       "      <td>g989</td>\n",
       "      <td>Propriva</td>\n",
       "      <td>Female</td>\n",
       "      <td>21</td>\n",
       "      <td>26</td>\n",
       "      <td>5</td>\n",
       "      <td>48.786801</td>\n",
       "      <td>0</td>\n",
       "    </tr>\n",
       "    <tr>\n",
       "      <th>3</th>\n",
       "      <td>g989</td>\n",
       "      <td>Propriva</td>\n",
       "      <td>Female</td>\n",
       "      <td>21</td>\n",
       "      <td>26</td>\n",
       "      <td>5</td>\n",
       "      <td>47.570392</td>\n",
       "      <td>0</td>\n",
       "    </tr>\n",
       "    <tr>\n",
       "      <th>4</th>\n",
       "      <td>g989</td>\n",
       "      <td>Propriva</td>\n",
       "      <td>Female</td>\n",
       "      <td>21</td>\n",
       "      <td>26</td>\n",
       "      <td>10</td>\n",
       "      <td>51.745156</td>\n",
       "      <td>0</td>\n",
       "    </tr>\n",
       "    <tr>\n",
       "      <th>5</th>\n",
       "      <td>g989</td>\n",
       "      <td>Propriva</td>\n",
       "      <td>Female</td>\n",
       "      <td>21</td>\n",
       "      <td>26</td>\n",
       "      <td>10</td>\n",
       "      <td>49.880528</td>\n",
       "      <td>0</td>\n",
       "    </tr>\n",
       "    <tr>\n",
       "      <th>6</th>\n",
       "      <td>g989</td>\n",
       "      <td>Propriva</td>\n",
       "      <td>Female</td>\n",
       "      <td>21</td>\n",
       "      <td>26</td>\n",
       "      <td>15</td>\n",
       "      <td>51.325852</td>\n",
       "      <td>1</td>\n",
       "    </tr>\n",
       "    <tr>\n",
       "      <th>7</th>\n",
       "      <td>g989</td>\n",
       "      <td>Propriva</td>\n",
       "      <td>Female</td>\n",
       "      <td>21</td>\n",
       "      <td>26</td>\n",
       "      <td>15</td>\n",
       "      <td>53.442020</td>\n",
       "      <td>0</td>\n",
       "    </tr>\n",
       "    <tr>\n",
       "      <th>8</th>\n",
       "      <td>g989</td>\n",
       "      <td>Propriva</td>\n",
       "      <td>Female</td>\n",
       "      <td>21</td>\n",
       "      <td>26</td>\n",
       "      <td>20</td>\n",
       "      <td>55.326122</td>\n",
       "      <td>1</td>\n",
       "    </tr>\n",
       "    <tr>\n",
       "      <th>9</th>\n",
       "      <td>g989</td>\n",
       "      <td>Propriva</td>\n",
       "      <td>Female</td>\n",
       "      <td>21</td>\n",
       "      <td>26</td>\n",
       "      <td>20</td>\n",
       "      <td>54.657650</td>\n",
       "      <td>1</td>\n",
       "    </tr>\n",
       "    <tr>\n",
       "      <th>10</th>\n",
       "      <td>g989</td>\n",
       "      <td>Propriva</td>\n",
       "      <td>Female</td>\n",
       "      <td>21</td>\n",
       "      <td>26</td>\n",
       "      <td>25</td>\n",
       "      <td>56.045564</td>\n",
       "      <td>1</td>\n",
       "    </tr>\n",
       "    <tr>\n",
       "      <th>11</th>\n",
       "      <td>g989</td>\n",
       "      <td>Propriva</td>\n",
       "      <td>Female</td>\n",
       "      <td>21</td>\n",
       "      <td>26</td>\n",
       "      <td>30</td>\n",
       "      <td>59.082294</td>\n",
       "      <td>1</td>\n",
       "    </tr>\n",
       "    <tr>\n",
       "      <th>12</th>\n",
       "      <td>g989</td>\n",
       "      <td>Propriva</td>\n",
       "      <td>Female</td>\n",
       "      <td>21</td>\n",
       "      <td>26</td>\n",
       "      <td>35</td>\n",
       "      <td>62.570880</td>\n",
       "      <td>2</td>\n",
       "    </tr>\n",
       "  </tbody>\n",
       "</table>\n",
       "</div>"
      ],
      "text/plain": [
       "   Mouse ID Drug Regimen     Sex  Age_months  Weight (g)  Timepoint  \\\n",
       "0      g989     Propriva  Female          21          26          0   \n",
       "1      g989     Propriva  Female          21          26          0   \n",
       "2      g989     Propriva  Female          21          26          5   \n",
       "3      g989     Propriva  Female          21          26          5   \n",
       "4      g989     Propriva  Female          21          26         10   \n",
       "5      g989     Propriva  Female          21          26         10   \n",
       "6      g989     Propriva  Female          21          26         15   \n",
       "7      g989     Propriva  Female          21          26         15   \n",
       "8      g989     Propriva  Female          21          26         20   \n",
       "9      g989     Propriva  Female          21          26         20   \n",
       "10     g989     Propriva  Female          21          26         25   \n",
       "11     g989     Propriva  Female          21          26         30   \n",
       "12     g989     Propriva  Female          21          26         35   \n",
       "\n",
       "    Tumor Volume (mm3)  Metastatic Sites  \n",
       "0            45.000000                 0  \n",
       "1            45.000000                 0  \n",
       "2            48.786801                 0  \n",
       "3            47.570392                 0  \n",
       "4            51.745156                 0  \n",
       "5            49.880528                 0  \n",
       "6            51.325852                 1  \n",
       "7            53.442020                 0  \n",
       "8            55.326122                 1  \n",
       "9            54.657650                 1  \n",
       "10           56.045564                 1  \n",
       "11           59.082294                 1  \n",
       "12           62.570880                 2  "
      ]
     },
     "execution_count": 71,
     "metadata": {},
     "output_type": "execute_result"
    }
   ],
   "source": [
    "# Optional: Get all the data for the duplicate mouse ID. \n",
    "\n",
    "# Filter mouse df for the duplicate mouse\n",
    "results_for_duplicate_mouse = mouse_df.loc[mouse_df['Mouse ID'] == mouse_to_be_removed]\n",
    "\n",
    "# Only display original columns\n",
    "results_for_duplicate_mouse = results_for_duplicate_mouse[['Mouse ID', 'Drug Regimen', 'Sex', 'Age_months', 'Weight (g)',\n",
    "       'Timepoint', 'Tumor Volume (mm3)', 'Metastatic Sites']]\n",
    "\n",
    "# Reset index\n",
    "results_for_duplicate_mouse.reset_index(drop=True, inplace=True)\n",
    "\n",
    "# Display results\n",
    "results_for_duplicate_mouse"
   ]
  },
  {
   "cell_type": "code",
   "execution_count": 72,
   "metadata": {},
   "outputs": [],
   "source": [
    "# Create a clean DataFrame by dropping the duplicate mouse by its ID.\n",
    "clean_mouse_df = mouse_df.loc[mouse_df['Mouse ID'] != 'g989']\n",
    "\n",
    "# Remove Duplicate_Check column\n",
    "clean_mouse_df = clean_mouse_df[['Mouse ID', 'Drug Regimen', 'Sex', 'Age_months', 'Weight (g)',\n",
    "       'Timepoint', 'Tumor Volume (mm3)', 'Metastatic Sites']]"
   ]
  },
  {
   "cell_type": "code",
   "execution_count": 73,
   "metadata": {},
   "outputs": [
    {
     "name": "stdout",
     "output_type": "stream",
     "text": [
      "There are 248 unique \"Mouse IDs\".\n"
     ]
    }
   ],
   "source": [
    "# Checking the number of mice in the clean DataFrame.\n",
    "clean_mouse_list = clean_mouse_df[\"Mouse ID\"]\n",
    "print(f'There are {len(clean_mouse_list.unique())} unique \"Mouse IDs\".')"
   ]
  },
  {
   "cell_type": "markdown",
   "metadata": {},
   "source": [
    "## Summary Statistics"
   ]
  },
  {
   "cell_type": "code",
   "execution_count": 74,
   "metadata": {},
   "outputs": [
    {
     "data": {
      "text/html": [
       "<div>\n",
       "<style scoped>\n",
       "    .dataframe tbody tr th:only-of-type {\n",
       "        vertical-align: middle;\n",
       "    }\n",
       "\n",
       "    .dataframe tbody tr th {\n",
       "        vertical-align: top;\n",
       "    }\n",
       "\n",
       "    .dataframe thead th {\n",
       "        text-align: right;\n",
       "    }\n",
       "</style>\n",
       "<table border=\"1\" class=\"dataframe\">\n",
       "  <thead>\n",
       "    <tr style=\"text-align: right;\">\n",
       "      <th></th>\n",
       "      <th>Mean</th>\n",
       "      <th>Median</th>\n",
       "      <th>Variance</th>\n",
       "      <th>Std Dev</th>\n",
       "      <th>SEM</th>\n",
       "    </tr>\n",
       "    <tr>\n",
       "      <th>Drug Regimen</th>\n",
       "      <th></th>\n",
       "      <th></th>\n",
       "      <th></th>\n",
       "      <th></th>\n",
       "      <th></th>\n",
       "    </tr>\n",
       "  </thead>\n",
       "  <tbody>\n",
       "    <tr>\n",
       "      <th>Capomulin</th>\n",
       "      <td>40.68</td>\n",
       "      <td>41.56</td>\n",
       "      <td>24.95</td>\n",
       "      <td>4.99</td>\n",
       "      <td>0.33</td>\n",
       "    </tr>\n",
       "    <tr>\n",
       "      <th>Ceftamin</th>\n",
       "      <td>52.59</td>\n",
       "      <td>51.78</td>\n",
       "      <td>39.29</td>\n",
       "      <td>6.27</td>\n",
       "      <td>0.47</td>\n",
       "    </tr>\n",
       "    <tr>\n",
       "      <th>Infubinol</th>\n",
       "      <td>52.88</td>\n",
       "      <td>51.82</td>\n",
       "      <td>43.13</td>\n",
       "      <td>6.57</td>\n",
       "      <td>0.49</td>\n",
       "    </tr>\n",
       "    <tr>\n",
       "      <th>Ketapril</th>\n",
       "      <td>55.24</td>\n",
       "      <td>53.70</td>\n",
       "      <td>68.55</td>\n",
       "      <td>8.28</td>\n",
       "      <td>0.60</td>\n",
       "    </tr>\n",
       "    <tr>\n",
       "      <th>Naftisol</th>\n",
       "      <td>54.33</td>\n",
       "      <td>52.51</td>\n",
       "      <td>66.17</td>\n",
       "      <td>8.13</td>\n",
       "      <td>0.60</td>\n",
       "    </tr>\n",
       "    <tr>\n",
       "      <th>Placebo</th>\n",
       "      <td>54.03</td>\n",
       "      <td>52.29</td>\n",
       "      <td>61.17</td>\n",
       "      <td>7.82</td>\n",
       "      <td>0.58</td>\n",
       "    </tr>\n",
       "    <tr>\n",
       "      <th>Propriva</th>\n",
       "      <td>52.32</td>\n",
       "      <td>50.45</td>\n",
       "      <td>43.85</td>\n",
       "      <td>6.62</td>\n",
       "      <td>0.54</td>\n",
       "    </tr>\n",
       "    <tr>\n",
       "      <th>Ramicane</th>\n",
       "      <td>40.22</td>\n",
       "      <td>40.67</td>\n",
       "      <td>23.49</td>\n",
       "      <td>4.85</td>\n",
       "      <td>0.32</td>\n",
       "    </tr>\n",
       "    <tr>\n",
       "      <th>Stelasyn</th>\n",
       "      <td>54.23</td>\n",
       "      <td>52.43</td>\n",
       "      <td>59.45</td>\n",
       "      <td>7.71</td>\n",
       "      <td>0.57</td>\n",
       "    </tr>\n",
       "    <tr>\n",
       "      <th>Zoniferol</th>\n",
       "      <td>53.24</td>\n",
       "      <td>51.82</td>\n",
       "      <td>48.53</td>\n",
       "      <td>6.97</td>\n",
       "      <td>0.52</td>\n",
       "    </tr>\n",
       "  </tbody>\n",
       "</table>\n",
       "</div>"
      ],
      "text/plain": [
       "               Mean  Median  Variance  Std Dev   SEM\n",
       "Drug Regimen                                        \n",
       "Capomulin     40.68   41.56     24.95     4.99  0.33\n",
       "Ceftamin      52.59   51.78     39.29     6.27  0.47\n",
       "Infubinol     52.88   51.82     43.13     6.57  0.49\n",
       "Ketapril      55.24   53.70     68.55     8.28  0.60\n",
       "Naftisol      54.33   52.51     66.17     8.13  0.60\n",
       "Placebo       54.03   52.29     61.17     7.82  0.58\n",
       "Propriva      52.32   50.45     43.85     6.62  0.54\n",
       "Ramicane      40.22   40.67     23.49     4.85  0.32\n",
       "Stelasyn      54.23   52.43     59.45     7.71  0.57\n",
       "Zoniferol     53.24   51.82     48.53     6.97  0.52"
      ]
     },
     "execution_count": 74,
     "metadata": {},
     "output_type": "execute_result"
    }
   ],
   "source": [
    "# Generate a summary statistics table of mean, median, variance, standard deviation, and SEM of the tumor volume for each regimen\n",
    "# This method is the most straighforward, creating multiple series and putting them all together at the end.\n",
    "\n",
    "# Create new df of cleaned mouse df grouped by 'Drug Regimen'\n",
    "summary_statistics_df = clean_mouse_df.groupby([\"Drug Regimen\"])\n",
    "\n",
    "# Calculate 'mean', 'median', 'variance', 'standard deviation', 'SEM' \n",
    "mean_results = summary_statistics_df[\"Tumor Volume (mm3)\"].mean()\n",
    "median_results = summary_statistics_df[\"Tumor Volume (mm3)\"].median()\n",
    "variance_results = summary_statistics_df[\"Tumor Volume (mm3)\"].var()\n",
    "std_dev_results = summary_statistics_df[\"Tumor Volume (mm3)\"].std()\n",
    "sem_results = summary_statistics_df[\"Tumor Volume (mm3)\"].sem()\n",
    "\n",
    "# Create output df with required results\n",
    "summary_statistics_output_df = pd.DataFrame(\n",
    "    {\"Mean\": mean_results,\n",
    "     \"Median\": median_results,\n",
    "     \"Variance\": variance_results,\n",
    "     \"Std Dev\": std_dev_results,\n",
    "     \"SEM\": sem_results,\n",
    "    }\n",
    ")\n",
    "\n",
    "# Display output df with results rounded to two decimals\n",
    "summary_statistics_output_df.round(2)"
   ]
  },
  {
   "cell_type": "code",
   "execution_count": 75,
   "metadata": {},
   "outputs": [
    {
     "data": {
      "text/html": [
       "<div>\n",
       "<style scoped>\n",
       "    .dataframe tbody tr th:only-of-type {\n",
       "        vertical-align: middle;\n",
       "    }\n",
       "\n",
       "    .dataframe tbody tr th {\n",
       "        vertical-align: top;\n",
       "    }\n",
       "\n",
       "    .dataframe thead th {\n",
       "        text-align: right;\n",
       "    }\n",
       "</style>\n",
       "<table border=\"1\" class=\"dataframe\">\n",
       "  <thead>\n",
       "    <tr style=\"text-align: right;\">\n",
       "      <th></th>\n",
       "      <th>mean</th>\n",
       "      <th>median</th>\n",
       "      <th>var</th>\n",
       "      <th>std</th>\n",
       "      <th>sem</th>\n",
       "    </tr>\n",
       "    <tr>\n",
       "      <th>Drug Regimen</th>\n",
       "      <th></th>\n",
       "      <th></th>\n",
       "      <th></th>\n",
       "      <th></th>\n",
       "      <th></th>\n",
       "    </tr>\n",
       "  </thead>\n",
       "  <tbody>\n",
       "    <tr>\n",
       "      <th>Capomulin</th>\n",
       "      <td>40.68</td>\n",
       "      <td>41.56</td>\n",
       "      <td>24.95</td>\n",
       "      <td>4.99</td>\n",
       "      <td>0.33</td>\n",
       "    </tr>\n",
       "    <tr>\n",
       "      <th>Ceftamin</th>\n",
       "      <td>52.59</td>\n",
       "      <td>51.78</td>\n",
       "      <td>39.29</td>\n",
       "      <td>6.27</td>\n",
       "      <td>0.47</td>\n",
       "    </tr>\n",
       "    <tr>\n",
       "      <th>Infubinol</th>\n",
       "      <td>52.88</td>\n",
       "      <td>51.82</td>\n",
       "      <td>43.13</td>\n",
       "      <td>6.57</td>\n",
       "      <td>0.49</td>\n",
       "    </tr>\n",
       "    <tr>\n",
       "      <th>Ketapril</th>\n",
       "      <td>55.24</td>\n",
       "      <td>53.70</td>\n",
       "      <td>68.55</td>\n",
       "      <td>8.28</td>\n",
       "      <td>0.60</td>\n",
       "    </tr>\n",
       "    <tr>\n",
       "      <th>Naftisol</th>\n",
       "      <td>54.33</td>\n",
       "      <td>52.51</td>\n",
       "      <td>66.17</td>\n",
       "      <td>8.13</td>\n",
       "      <td>0.60</td>\n",
       "    </tr>\n",
       "    <tr>\n",
       "      <th>Placebo</th>\n",
       "      <td>54.03</td>\n",
       "      <td>52.29</td>\n",
       "      <td>61.17</td>\n",
       "      <td>7.82</td>\n",
       "      <td>0.58</td>\n",
       "    </tr>\n",
       "    <tr>\n",
       "      <th>Propriva</th>\n",
       "      <td>52.32</td>\n",
       "      <td>50.45</td>\n",
       "      <td>43.85</td>\n",
       "      <td>6.62</td>\n",
       "      <td>0.54</td>\n",
       "    </tr>\n",
       "    <tr>\n",
       "      <th>Ramicane</th>\n",
       "      <td>40.22</td>\n",
       "      <td>40.67</td>\n",
       "      <td>23.49</td>\n",
       "      <td>4.85</td>\n",
       "      <td>0.32</td>\n",
       "    </tr>\n",
       "    <tr>\n",
       "      <th>Stelasyn</th>\n",
       "      <td>54.23</td>\n",
       "      <td>52.43</td>\n",
       "      <td>59.45</td>\n",
       "      <td>7.71</td>\n",
       "      <td>0.57</td>\n",
       "    </tr>\n",
       "    <tr>\n",
       "      <th>Zoniferol</th>\n",
       "      <td>53.24</td>\n",
       "      <td>51.82</td>\n",
       "      <td>48.53</td>\n",
       "      <td>6.97</td>\n",
       "      <td>0.52</td>\n",
       "    </tr>\n",
       "  </tbody>\n",
       "</table>\n",
       "</div>"
      ],
      "text/plain": [
       "               mean  median    var   std   sem\n",
       "Drug Regimen                                  \n",
       "Capomulin     40.68   41.56  24.95  4.99  0.33\n",
       "Ceftamin      52.59   51.78  39.29  6.27  0.47\n",
       "Infubinol     52.88   51.82  43.13  6.57  0.49\n",
       "Ketapril      55.24   53.70  68.55  8.28  0.60\n",
       "Naftisol      54.33   52.51  66.17  8.13  0.60\n",
       "Placebo       54.03   52.29  61.17  7.82  0.58\n",
       "Propriva      52.32   50.45  43.85  6.62  0.54\n",
       "Ramicane      40.22   40.67  23.49  4.85  0.32\n",
       "Stelasyn      54.23   52.43  59.45  7.71  0.57\n",
       "Zoniferol     53.24   51.82  48.53  6.97  0.52"
      ]
     },
     "execution_count": 75,
     "metadata": {},
     "output_type": "execute_result"
    }
   ],
   "source": [
    "# Generate a summary statistics table of mean, median, variance, standard deviation, and SEM of the tumor volume for each regimen\n",
    "# This method produces everything in a single groupby function\n",
    "\n",
    "# Create df using groupby and aggregate functions\n",
    "summary_statistics_output_2_df = clean_mouse_df.groupby([\"Drug Regimen\"])[\"Tumor Volume (mm3)\"].agg(['mean', 'median', 'var', 'std', 'sem'])\n",
    "\n",
    "# Display output df with results rounded to two decimals\n",
    "summary_statistics_output_2_df.round(2)"
   ]
  },
  {
   "cell_type": "markdown",
   "metadata": {},
   "source": [
    "## Bar and Pie Charts"
   ]
  },
  {
   "cell_type": "code",
   "execution_count": 76,
   "metadata": {},
   "outputs": [
    {
     "data": {
      "image/png": "[encoded data removed]",
      "text/plain": [
       "<Figure size 432x288 with 1 Axes>"
      ]
     },
     "metadata": {
      "needs_background": "light"
     },
     "output_type": "display_data"
    }
   ],
   "source": [
    "# Generate a bar plot showing the total number of mice for each treatment throughout the course of the study using pandas. \n",
    "\n",
    "# calculate results to use in bar chart\n",
    "counts = clean_mouse_df[\"Drug Regimen\"].value_counts()\n",
    "\n",
    "# Create bar chart, set title and formatting\n",
    "ax = counts.plot.barh(x='Regimen', y='count', rot=0, legend=False, title=\"Mouse Treatments by Drug Regimen\", color='cornflowerblue')\n",
    "\n",
    "# Set axis labels\n",
    "ax.set(xlabel=\"Number of Mice\", ylabel=\"Drug Regimen\")\n",
    "\n",
    "# Save to Images folder\n",
    "plt.savefig(\"Images/pandas_bar_chart.png\")"
   ]
  },
  {
   "cell_type": "code",
   "execution_count": 77,
   "metadata": {},
   "outputs": [
    {
     "data": {
      "image/png": "[encoded data removed]",
      "text/plain": [
       "<Figure size 432x288 with 1 Axes>"
      ]
     },
     "metadata": {
      "needs_background": "light"
     },
     "output_type": "display_data"
    }
   ],
   "source": [
    "# Generate a bar plot showing the total number of mice for each treatment throughout the course of the study using pyplot.\n",
    "\n",
    "# Create bar chart\n",
    "plt.barh(counts.index, counts.values, color='lightcoral', alpha=1, align=\"center\")\n",
    "\n",
    "# Set title and axis labels\n",
    "plt.title(\"Mouse Treatments by Drug Regimen\")\n",
    "plt.xlabel(\"Number of Mice\")\n",
    "plt.ylabel(\"Drug Regimen\")\n",
    "\n",
    "# Save to Images folder\n",
    "plt.savefig(\"Images/pyplot_bar_chart.png\")"
   ]
  },
  {
   "cell_type": "code",
   "execution_count": 78,
   "metadata": {},
   "outputs": [
    {
     "data": {
      "image/png": "[encoded data removed]",
      "text/plain": [
       "<Figure size 432x288 with 1 Axes>"
      ]
     },
     "metadata": {},
     "output_type": "display_data"
    }
   ],
   "source": [
    "# Generate a pie plot showing the distribution of female versus male mice using pandas\n",
    "\n",
    "# Get first row of data for each mouse\n",
    "mouse_gender_data = clean_mouse_df\n",
    "mouse_gender_data = mouse_gender_data.drop_duplicates(subset=\"Mouse ID\", keep='first')\n",
    "\n",
    "# Calculate gender results\n",
    "gender_count = mouse_gender_data[\"Sex\"].value_counts()\n",
    "\n",
    "# Create pie chart\n",
    "gender_count.plot(kind='pie', colors = ['cornflowerblue', 'lightcoral'], \n",
    "                                title='Mice Treated by Gender',\n",
    "                                startangle=140, autopct=\"%1.1f%%\")\n",
    "\n",
    "# Save to Images folder\n",
    "plt.savefig(\"Images/pandas_pie_chart.png\")"
   ]
  },
  {
   "cell_type": "code",
   "execution_count": 79,
   "metadata": {},
   "outputs": [
    {
     "data": {
      "image/png": "[encoded data removed]",
      "text/plain": [
       "<Figure size 432x288 with 1 Axes>"
      ]
     },
     "metadata": {},
     "output_type": "display_data"
    }
   ],
   "source": [
    "# Generate a pie plot showing the distribution of female versus male mice using pyplot\n",
    "\n",
    "# Create pie chart, add labels and formatting\n",
    "plt.pie(gender_count, labels=[\"Male\", \"Female\"], colors=['cornflowerblue', 'lightcoral'], autopct=\"%1.1f%%\", startangle=140)\n",
    "\n",
    "# Create axes which are equal so we have a perfect circle\n",
    "plt.axis(\"equal\")\n",
    "\n",
    "# Add title\n",
    "plt.title(\"Mice Treated by Gender\");\n",
    "\n",
    "# Save to Images folder\n",
    "plt.savefig(\"Images/pyplot_pie_chart.png\")"
   ]
  },
  {
   "cell_type": "markdown",
   "metadata": {},
   "source": [
    "## Quartiles, Outliers and Boxplots"
   ]
  },
  {
   "cell_type": "code",
   "execution_count": 80,
   "metadata": {},
   "outputs": [],
   "source": [
    "# Calculate the final tumor volume of each mouse across four of the treatment regimens:  \n",
    "# Capomulin, Ramicane, Infubinol, and Ceftamin\n",
    "\n",
    "# Start by getting the last (greatest) timepoint for each mouse\n",
    "last_timepoint_df = pd.DataFrame(clean_mouse_df.groupby([\"Mouse ID\"])[\"Timepoint\"].max())\n",
    "\n",
    "# Merge this group df with the original dataframe to get the tumor volume at the last timepoint\n",
    "merged_timepoint_df = pd.merge(clean_mouse_df, last_timepoint_df, on=[\"Mouse ID\", \"Timepoint\"],how=\"inner\")\n"
   ]
  },
  {
   "cell_type": "code",
   "execution_count": 81,
   "metadata": {},
   "outputs": [
    {
     "name": "stdout",
     "output_type": "stream",
     "text": [
      "Capomulin\n",
      "The lower quartile of Capomulin is: 32.37735684\n",
      "The upper quartile of Capomulin is: 40.1592203\n",
      "The IQR of Capomulin is: 7.781863460000004\n",
      "Values below 20.70456164999999 could be outliers.\n",
      "Values above 51.83201549 could be outliers.\n",
      "\n",
      "\n",
      "Ramicane\n",
      "The lower quartile of Ramicane is: 31.56046955\n",
      "The upper quartile of Ramicane is: 40.65900627\n",
      "The IQR of Ramicane is: 9.098536719999998\n",
      "Values below 17.912664470000003 could be outliers.\n",
      "Values above 54.30681135 could be outliers.\n",
      "\n",
      "\n",
      "Infubinol\n",
      "The lower quartile of Infubinol is: 54.04860769\n",
      "The upper quartile of Infubinol is: 65.52574285\n",
      "The IQR of Infubinol is: 11.477135160000003\n",
      "Values below 36.83290494999999 could be outliers.\n",
      "Values above 82.74144559000001 could be outliers.\n",
      "\n",
      "\n",
      "Ceftamin\n",
      "The lower quartile of Ceftamin is: 48.72207785\n",
      "The upper quartile of Ceftamin is: 64.29983003\n",
      "The IQR of Ceftamin is: 15.577752179999997\n",
      "Values below 25.355449580000002 could be outliers.\n",
      "Values above 87.66645829999999 could be outliers.\n",
      "\n",
      "\n"
     ]
    }
   ],
   "source": [
    "# Put treatments into a list for for loop (and later for plot labels)\n",
    "treatment_list = [\"Capomulin\", \"Ramicane\", \"Infubinol\", \"Ceftamin\"]\n",
    "\n",
    "# Create empty list to fill with tumor vol data (for plotting)\n",
    "tumor_volume_list = []\n",
    "\n",
    "# Loop through to store tumor volume\n",
    "for drug in treatment_list:\n",
    "    vol = merged_timepoint_df.loc[merged_timepoint_df[\"Drug Regimen\"] == drug, 'Tumor Volume (mm3)']\n",
    "    tumor_volume_list.append(vol)\n",
    "\n",
    "    # Calculate the IQR and quantitatively determine if there are any potential outliers. \n",
    "    quartiles = vol.quantile([.25, .5, .75])\n",
    "    lowerq = quartiles[.25]\n",
    "    upperq = quartiles[.75]\n",
    "    iqr = upperq - lowerq\n",
    "\n",
    "    print(f\"{drug}\")\n",
    "    print(f\"The lower quartile of {drug} is: {lowerq}\")\n",
    "    print(f\"The upper quartile of {drug} is: {upperq}\")\n",
    "    print(f\"The IQR of {drug} is: {iqr}\")\n",
    "    \n",
    "    # Determine outliers using upper and lower bounds\n",
    "    lower_bound = lowerq - (1.5 * iqr)\n",
    "    upper_bound = upperq + (1.5 * iqr)\n",
    "    print(f\"Values below {lower_bound} could be outliers.\")\n",
    "    print(f\"Values above {upper_bound} could be outliers.\")\n",
    "    print(f\"\\n\")"
   ]
  },
  {
   "cell_type": "code",
   "execution_count": 82,
   "metadata": {},
   "outputs": [
    {
     "data": {
      "image/png": "[encoded data removed]",
      "text/plain": [
       "<Figure size 432x288 with 1 Axes>"
      ]
     },
     "metadata": {
      "needs_background": "light"
     },
     "output_type": "display_data"
    }
   ],
   "source": [
    "# Generate a box plot of the final tumor volume of each mouse across four regimens of interest\n",
    "\n",
    "# Create subplot based on treatments in treatment list\n",
    "treatment_list, ax1 = plt.subplots()\n",
    "\n",
    "# Set plot and axis titles\n",
    "ax1.set_title(\"Tumor Volumes\")\n",
    "ax1.set_ylabel(\"Tumor Volume (mm3)\")\n",
    "ax1.set_xlabel(\"Drug Regimen\")\n",
    "\n",
    "# Add tick labels on x-axis\n",
    "plt.xticks([1, 2, 3, 4], [\"Capomulin\", \"Ramicane\", \"Infubinol\", \"Ceftamin\"])\n",
    "\n",
    "# Create boxplot showing tumor volumes for each treatment\n",
    "ax1.boxplot(tumor_volume_list);\n",
    "\n",
    "# Save to Images folder\n",
    "plt.savefig(\"Images/box_plot.png\")"
   ]
  },
  {
   "cell_type": "markdown",
   "metadata": {},
   "source": [
    "## Line and Scatter Plots"
   ]
  },
  {
   "cell_type": "code",
   "execution_count": 83,
   "metadata": {},
   "outputs": [
    {
     "data": {
      "image/png": "[encoded data removed]",
      "text/plain": [
       "<Figure size 432x288 with 1 Axes>"
      ]
     },
     "metadata": {
      "needs_background": "light"
     },
     "output_type": "display_data"
    }
   ],
   "source": [
    "# Generate a line plot of time point versus tumor volume for a mouse treated with Capomulin\n",
    "\n",
    "# Chose to analyze results for mouse \"m601\"\n",
    "# Create df for mouse \"m601\".\n",
    "m601_df = clean_mouse_df.loc[clean_mouse_df['Mouse ID'] == 'm601']\n",
    "\n",
    "# Store values for x_axis and y_axis\n",
    "x_axis = m601_df[\"Timepoint\"]\n",
    "y_axis = m601_df[\"Tumor Volume (mm3)\"]\n",
    "\n",
    "# Create line plot\n",
    "plt.plot(x_axis, y_axis, color=\"red\", linewidth=1)\n",
    "\n",
    "# Set title and axis titles\n",
    "plt.title(\"Tumor Volume for Mouse 'm601'\")\n",
    "plt.xlabel(\"Timepoint\")\n",
    "plt.ylabel(\"Tumor Volume (mm3)\")\n",
    "\n",
    "# Save to Images folder\n",
    "plt.savefig(\"Images/line_plot.png\")"
   ]
  },
  {
   "cell_type": "code",
   "execution_count": 84,
   "metadata": {},
   "outputs": [
    {
     "data": {
      "image/png": "[encoded data removed]",
      "text/plain": [
       "<Figure size 432x288 with 1 Axes>"
      ]
     },
     "metadata": {
      "needs_background": "light"
     },
     "output_type": "display_data"
    }
   ],
   "source": [
    "# Generate a scatter plot of mouse weight versus average tumor volume for the Capomulin regimen\n",
    "\n",
    "# Create df for mice treated by capomulin\n",
    "capomulin_df = clean_mouse_df.set_index(\"Drug Regimen\")\n",
    "capomulin_df = capomulin_df.loc[[\"Capomulin\"]]\n",
    "\n",
    "# Group by weight and tumor volume. Aggregate mean\n",
    "capomulin_df = capomulin_df.groupby(capomulin_df[\"Weight (g)\"])[\"Tumor Volume (mm3)\"].agg(['mean'])\n",
    "\n",
    "# Store the plot data\n",
    "plot_data = capomulin_df[\"mean\"]\n",
    "\n",
    "# Set x_values and y_values\n",
    "x_values = plot_data.index\n",
    "y_values = plot_data.values\n",
    "\n",
    "# Plot the data\n",
    "plt.scatter(x_values,y_values)\n",
    "\n",
    "# Set title and axis titles\n",
    "plt.xlabel(\"Weight (g)\")\n",
    "plt.ylabel(\"Tumor Volume (mm3)\")\n",
    "plt.title(\"Average Tumor Volume Versus Mouse Weight\")\n",
    "\n",
    "# Save to Images folder\n",
    "plt.savefig(\"Images/scatter_plot.png\");"
   ]
  },
  {
   "cell_type": "markdown",
   "metadata": {},
   "source": [
    "## Correlation and Regression"
   ]
  },
  {
   "cell_type": "code",
   "execution_count": 85,
   "metadata": {},
   "outputs": [
    {
     "name": "stdout",
     "output_type": "stream",
     "text": [
      "The line_eq is: y = 0.89x + 22.76\n",
      "The correlation coefficient between mouse weight and tumor volume is 0.95\n"
     ]
    },
    {
     "data": {
      "image/png": "[encoded data removed]",
      "text/plain": [
       "<Figure size 432x288 with 1 Axes>"
      ]
     },
     "metadata": {
      "needs_background": "light"
     },
     "output_type": "display_data"
    }
   ],
   "source": [
    "# Calculate the correlation coefficient and linear regression model \n",
    "# for mouse weight and average tumor volume for the Capomulin regimen\n",
    "\n",
    "# Create df for mice treated by capomulin\n",
    "capomulin_df = clean_mouse_df.set_index(\"Drug Regimen\")\n",
    "capomulin_df = capomulin_df.loc[[\"Capomulin\"]]\n",
    "\n",
    "# Group by weight and tumor volume. Aggregate mean\n",
    "capomulin_df = capomulin_df.groupby(capomulin_df[\"Weight (g)\"])[\"Tumor Volume (mm3)\"].agg(['mean'])\n",
    "\n",
    "# Store the plot data\n",
    "plot_data = capomulin_df[\"mean\"]\n",
    "\n",
    "# Calculate the linear regression model\n",
    "(slope, intercept, rvalue, pvalue, stderr) = linregress(x_values, y_values)\n",
    "regress_values = x_values * slope + intercept\n",
    "line_eq = \"y = \" + str(round(slope,2)) + \"x + \" + str(round(intercept,2))\n",
    "\n",
    "# Create scatter plot\n",
    "plt.scatter(plot_data.index,plot_data.values)\n",
    "\n",
    "# Add the linear regression line to plot\n",
    "plt.plot(x_values,regress_values,\"r-\")\n",
    "\n",
    "# Add the linear regression equation to plot\n",
    "plt.annotate(line_eq,(20,37),fontsize=15,color=\"red\")\n",
    "\n",
    "# Set title and axis titles\n",
    "plt.title(\"Average Tumor Volume Versus Mouse Weight\")\n",
    "plt.xlabel(\"Weight (g)\")\n",
    "plt.ylabel(\"Tumor Volume (mm3)\")\n",
    "\n",
    "# Print the line equation value\n",
    "print(f\"The line_eq is: {line_eq}\")\n",
    "\n",
    "# Calculate and print the correlation coefficient\n",
    "print(f\"The correlation coefficient between mouse weight and tumor volume is {round(st.pearsonr(plot_data.index,plot_data.values)[0],2)}\")\n",
    "\n",
    "# Save to Images folder\n",
    "plt.savefig(\"Images/correlation_coefficient_and_linear_regression.png\");\n"
   ]
  }
 ],
 "metadata": {
  "anaconda-cloud": {},
  "kernelspec": {
   "display_name": "Python 3",
   "language": "python",
   "name": "python3"
  },
  "language_info": {
   "codemirror_mode": {
    "name": "ipython",
    "version": 3
   },
   "file_extension": ".py",
   "mimetype": "text/x-python",
   "name": "python",
   "nbconvert_exporter": "python",
   "pygments_lexer": "ipython3",
   "version": "3.6.10"
  }
 },
 "nbformat": 4,
 "nbformat_minor": 2
}
